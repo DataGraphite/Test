{
 "cells": [
  {
   "cell_type": "code",
   "execution_count": 1,
   "metadata": {},
   "outputs": [],
   "source": [
    "import numpy as np\n",
    "import matplotlib as mpl # optional (here)\n",
    "\n",
    "import pandas as pd\n",
    "import matplotlib.pyplot as plt\n",
    "\n",
    "from ipywidgets import widgets, interactive, Layout, Button, Box, FloatText, Textarea, Dropdown, Label, IntSlider\n",
    "\n",
    "from io import StringIO"
   ]
  },
  {
   "cell_type": "code",
   "execution_count": 2,
   "metadata": {},
   "outputs": [],
   "source": [
    "df = pd.read_csv(\"PandaCSVAug.csv\", sep=\",\")\n",
    "df2 = pd.read_csv(\"Filters.csv\", sep=\",\")"
   ]
  },
  {
   "cell_type": "code",
   "execution_count": 3,
   "metadata": {},
   "outputs": [],
   "source": [
    "IDSel = widgets.Dropdown(\n",
    "    options=['All'] + list(df2['ID'].unique()),\n",
    "    value='All',\n",
    ")\n",
    "\n",
    "SourceSel = widgets.Dropdown(\n",
    "    options=['All'] + list(df2['Source'].unique()),\n",
    "    value='All',\n",
    ")\n",
    "\n",
    "TypeSel = widgets.Dropdown(\n",
    "    options=['All'] + list(df2['Type'].unique()),\n",
    "    value='All',\n",
    ")\n",
    "\n",
    "SizeSel = widgets.Dropdown(\n",
    "    options=['All'] + list(df2['Size'].unique()),\n",
    "    value='All',\n",
    ")\n",
    "\n",
    "BaseSel = widgets.Dropdown(\n",
    "    options=['All'] + list(df2['Base'].unique()),\n",
    "    value='All',\n",
    ")\n",
    "\n",
    "PitchSel = widgets.Dropdown(\n",
    "    options=['All'] + list(df2['Pitch%'].unique()),\n",
    "    value='All',\n",
    ")\n"
   ]
  },
  {
   "cell_type": "code",
   "execution_count": 4,
   "metadata": {},
   "outputs": [],
   "source": [
    "def plotit(ID,src,Gtype,size,base,ptch):\n",
    "\n",
    "    if (src == 'All')and(ID == 'All')and(Gtype == 'All')and(size == 'All')and(base == 'All')and(ptch == 'All'):\n",
    "        df.plot(x=\"Cycle\", legend=False)\n",
    "        plt.show()\n",
    "    else:\n",
    "        if (ID == 'All'):\n",
    "            indicesID=df2['ID']==df2['ID']\n",
    "        else:\n",
    "            indicesID=df2['ID']==ID\n",
    "       \n",
    "        if (src == 'All'):\n",
    "            indicesSrc=df2['Source']==df2['Source']\n",
    "        else:\n",
    "            indicesSrc=df2['Source']==src\n",
    "\n",
    "        if (Gtype == 'All'):\n",
    "            indicesType=df2['Type']==df2['Type']\n",
    "        else:\n",
    "            indicesType=df2['Type']==Gtype\n",
    "       \n",
    "        if (size == 'All'):\n",
    "            indicesSize=df2['Size']==df2['Size']\n",
    "        else:\n",
    "            indicesSize=df2['Size']==size\n",
    "\n",
    "        if (base == 'All'):\n",
    "            indicesBase=df2['Base']==df2['Base']\n",
    "        else:\n",
    "            indicesBase=df2['Base']==base\n",
    "       \n",
    "        if (ptch == 'All'):\n",
    "            indicesPtch=df2['Pitch%']==df2['Pitch%']\n",
    "        else:\n",
    "            indicesPtch=df2['Pitch%']==ptch\n",
    "        \n",
    "        indAggr=indicesSrc&indicesID&indicesType&indicesSize&indicesBase&indicesPtch\n",
    "        indValues=df2['Cell'][indAggr]\n",
    "        sAdd = pd.Series(['Cycle'], index=[0])\n",
    "        newseries = sAdd._append(indValues, ignore_index=True)\n",
    "        dfcopy=df[newseries]\n",
    "\n",
    "        if len(dfcopy.columns) > 1:\n",
    "            fig, ax = plt.subplots()\n",
    "            dfcopy.plot(x=\"Cycle\",ax=ax)\n",
    "            ax.legend(ncol=5, bbox_to_anchor=(1.0,1.0))\n",
    "            plt.show()\n",
    "        else:\n",
    "            print(\"No data to show for current selection\")\n"
   ]
  },
  {
   "cell_type": "code",
   "execution_count": 9,
   "metadata": {},
   "outputs": [],
   "source": [
    "form = Box([IDSel, SourceSel, TypeSel, SizeSel, BaseSel, PitchSel],\n",
    "           layout=Layout(\n",
    "           display='flex',\n",
    "           flex_flow='row',\n",
    "           border='solid 2px',\n",
    "           align_items='stretch',\n",
    "           width='75%')\n",
    ")\n"
   ]
  },
  {
   "cell_type": "code",
   "execution_count": 10,
   "metadata": {},
   "outputs": [],
   "source": [
    "plotter = widgets.interactive_output(plotit, {\n",
    "        'ID':IDSel, \n",
    "        'src':SourceSel, \n",
    "        'Gtype':TypeSel, \n",
    "        'size':SizeSel,\n",
    "        'base':BaseSel, \n",
    "        'ptch':PitchSel\n",
    "        })\n",
    "\n",
    "\n",
    "plotform = Box([plotter],\n",
    "           layout=Layout(\n",
    "           display='flex',\n",
    "           flex_flow='row',\n",
    "           border='solid 2px',\n",
    "           align_items='stretch',\n",
    "           width='100%')\n",
    ") "
   ]
  },
  {
   "cell_type": "code",
   "execution_count": 11,
   "metadata": {},
   "outputs": [
    {
     "data": {
      "application/vnd.jupyter.widget-view+json": {
       "model_id": "a084301f40444b179d43891dcad785a3",
       "version_major": 2,
       "version_minor": 0
      },
      "text/plain": [
       "Box(children=(Dropdown(options=('All', 'TRIAL', 'SG2', 'RDNV1', 'SG1', 'NG2', 'RD1225', 'RD1244', 'RDBH1', 'RD…"
      ]
     },
     "metadata": {},
     "output_type": "display_data"
    },
    {
     "data": {
      "application/vnd.jupyter.widget-view+json": {
       "model_id": "2dd232579de240eba254ded06c0c9025",
       "version_major": 2,
       "version_minor": 0
      },
      "text/plain": [
       "Box(children=(Output(outputs=({'output_type': 'display_data', 'data': {'text/plain': '<Figure size 640x480 wit…"
      ]
     },
     "metadata": {},
     "output_type": "display_data"
    }
   ],
   "source": [
    "display(form)\n",
    "display(plotform)"
   ]
  },
  {
   "cell_type": "code",
   "execution_count": null,
   "metadata": {},
   "outputs": [],
   "source": []
  }
 ],
 "metadata": {
  "kernelspec": {
   "display_name": ".venv",
   "language": "python",
   "name": "python3"
  },
  "language_info": {
   "codemirror_mode": {
    "name": "ipython",
    "version": 3
   },
   "file_extension": ".py",
   "mimetype": "text/x-python",
   "name": "python",
   "nbconvert_exporter": "python",
   "pygments_lexer": "ipython3",
   "version": "3.12.5"
  }
 },
 "nbformat": 4,
 "nbformat_minor": 2
}
